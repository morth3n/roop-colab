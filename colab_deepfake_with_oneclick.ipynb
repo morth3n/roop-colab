{
  "nbformat": 4,
  "nbformat_minor": 0,
  "metadata": {
    "colab": {
      "provenance": [],
      "gpuType": "T4",
      "authorship_tag": "ABX9TyNPvp4PdSm3atI09PcR3ohk",
      "include_colab_link": true
    },
    "kernelspec": {
      "name": "python3",
      "display_name": "Python 3"
    },
    "language_info": {
      "name": "python"
    },
    "accelerator": "GPU"
  },
  "cells": [
    {
      "cell_type": "markdown",
      "metadata": {
        "id": "view-in-github",
        "colab_type": "text"
      },
      "source": [
        "<a href=\"https://colab.research.google.com/github/morth3n/roop-colab/blob/main/colab_deepfake_with_oneclick.ipynb\" target=\"_parent\"><img src=\"https://colab.research.google.com/assets/colab-badge.svg\" alt=\"Open In Colab\"/></a>"
      ]
    },
    {
      "cell_type": "code",
      "execution_count": null,
      "metadata": {
        "id": "DXVd_x6TCpKy"
      },
      "outputs": [],
      "source": [
        "#@title Connect to Google Drive\n",
        "from google.colab import drive\n",
        "drive.mount('/content/drive')"
      ]
    },
    {
      "cell_type": "code",
      "source": [
        "import os\n",
        "\n",
        "source = \"/content/drive/MyDrive/deepfake/source.png\" # @param {type:\"string\"}\n",
        "target = \"/content/drive/MyDrive/deepfake/target.mp4\" # @param {type:\"string\"}\n",
        "\n",
        "def create_output_path(source, target):\n",
        "    # Extract the file names from the paths\n",
        "    source_filename = source.split(\"/\")[-1].split(\".\")[0]\n",
        "    target_filename = target.split(\"/\")[-1].split(\".\")[0]\n",
        "\n",
        "    # Extract the folder path from the target\n",
        "    target_folder = \"/\".join(target.split(\"/\")[:-1])\n",
        "\n",
        "    # Create the output path by combining the target folder, target filename, and source filename\n",
        "    output_filename = f\"hasil.mp4\"\n",
        "    output_path = f\"{target_folder}/{output_filename}\"\n",
        "\n",
        "    return output_path\n",
        "\n",
        "output = create_output_path(source, target)\n",
        "print(output)"
      ],
      "metadata": {
        "id": "VIZyeqTHCuzF"
      },
      "execution_count": null,
      "outputs": []
    },
    {
      "cell_type": "code",
      "source": [
        "!git clone https://github.com/morth3n/roop\n",
        "%cd roop\n",
        "!pip install -r requirements.txt\n",
        "!pip install onnxruntime-gpu==1.15.1\n",
        "!wget https://civitai.com/api/download/models/85159 -O inswapper_128.onnx"
      ],
      "metadata": {
        "id": "9BwAEkicCwrm"
      },
      "execution_count": null,
      "outputs": []
    },
    {
      "cell_type": "code",
      "source": [
        "command = f\"python run.py -s '{source}' -t '{target}' -o '{output}' --keep-frames --keep-fps --execution-provider cuda --frame-processor face_swapper face_enhancer\"\n",
        "!{command}"
      ],
      "metadata": {
        "id": "fQGw_Y4SCyGX"
      },
      "execution_count": null,
      "outputs": []
    }
  ]
}